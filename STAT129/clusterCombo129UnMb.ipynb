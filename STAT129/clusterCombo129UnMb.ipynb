{
 "cells": [
  {
   "cell_type": "code",
   "execution_count": 7,
   "metadata": {},
   "outputs": [],
   "source": [
    "#Warming Up\n",
    "import numpy as np\n",
    "import matplotlib.pyplot as plt\n",
    "import csv \n",
    "from sklearn.feature_extraction.text import TfidfVectorizer\n",
    "from sklearn.decomposition import TruncatedSVD\n",
    "from sklearn.cluster import KMeans\n",
    "\n",
    "with open(\"nonprofit-desc.csv\") as f:\n",
    "    c = csv.reader(f)\n",
    "    descriptions = [row[2] for row in c if not row[2] == \"\"] \n",
    "\n",
    "tf = TfidfVectorizer(min_df=0.0001, max_df=0.1)\n",
    "\n",
    "# document term matrix \n",
    "X = tf.fit_transform(descriptions)\n",
    "ndim = 700\n",
    "svd = TruncatedSVD(n_components=ndim, random_state=230)\n",
    "xpc = svd.fit_transform(X)\n"
   ]
  },
  {
   "attachments": {},
   "cell_type": "markdown",
   "metadata": {},
   "source": [
    "### 1. Plot and comment on the graph of cumulative variance explained as a function of the number of components."
   ]
  },
  {
   "cell_type": "code",
   "execution_count": 8,
   "metadata": {},
   "outputs": [
    {
     "data": {
      "text/plain": [
       "Text(0, 0.5, 'proportion of variance explained')"
      ]
     },
     "execution_count": 8,
     "metadata": {},
     "output_type": "execute_result"
    },
    {
     "data": {
      "image/png": "[encoded data removed]",
      "text/plain": [
       "<Figure size 640x480 with 1 Axes>"
      ]
     },
     "metadata": {},
     "output_type": "display_data"
    }
   ],
   "source": [
    "plt.scatter(range(ndim), np.cumsum(svd.explained_variance_ratio_))\n",
    "plt.xlabel('number of dimensions')\n",
    "plt.ylabel('proportion of variance explained')"
   ]
  },
  {
   "attachments": {},
   "cell_type": "markdown",
   "metadata": {},
   "source": [
    "### 2. How many principal components are necessary to explain 50% of the total variation in the data?\n",
    "\n",
    "About 650 components to explain 50% of the variation."
   ]
  },
  {
   "attachments": {},
   "cell_type": "markdown",
   "metadata": {},
   "source": [
    "### 3. Fit the K means model, experimenting with at least two values of K between 2 and 10."
   ]
  },
  {
   "cell_type": "code",
   "execution_count": null,
   "metadata": {},
   "outputs": [],
   "source": [
    "nt = 2\n",
    "kmDu = KMeans(n_clusters=nt, random_state=42)\n",
    "clusDu = kmDu.fit_predict(X)\n",
    "\n",
    "nf = 5\n",
    "kmQnQ = KMeans(n_clusters=nf, random_state=42)\n",
    "clusQnQ = kmQnQ.fit_predict(X)"
   ]
  },
  {
   "attachments": {},
   "cell_type": "markdown",
   "metadata": {},
   "source": [
    "### 4. Find nonprofit descriptions that are representative of each cluster, and print out a few descriptions in each cluster."
   ]
  },
  {
   "cell_type": "code",
   "execution_count": 20,
   "metadata": {},
   "outputs": [
    {
     "name": "stdout",
     "output_type": "stream",
     "text": [
      "Cluster # 1\n",
      "['promotion of youth ice sports for madison nj high school students for 2018-2019 season, and recognition of player accomplishments, benefitting approximately 35 to 40 youth foundation for morristown medical center- hockey fights cancer'\n",
      " 'organization provides youth sports to children of age within its jurisdiction at a low cost'\n",
      " 'clay county fair held july 9-12 2015 provided educational experiences for 4-h & ffa youth & county residents through exhibits & demonstrations'\n",
      " 'aisa trains native american youth and adults in the principles of scouting in order to bring together the various tribes in a positive project'\n",
      " 'provide for the advancement of amateur youth soccer for over 600 players in the town of southborough, ma']\n",
      "Cluster # 2\n",
      "['human services programs, general/other: community based programs to feed 150-200 individuals weekly who are homeless, unemployed, elderly, on fixed income, on welfare, or otherwise disadvantaged.'\n",
      " 'volunteer fire protection services for the town of cheshire connecticut. maintenance of a fire protection bureau, providing educational services, and promotion of fire safety to the residents of the town. providing aparatus and training to the volunteers of the department.'\n",
      " 'support of lions club community service projects within texas, the united states and abroad. sight conservation assistance to local residents in need. support of local charitable organizations providing health and human services to local residents in need.'\n",
      " 'woodside elementary pfc has consistently provided many services to the school year after year such as financing the salary of a computer teacher and classroom teaching assistants, providing a read-at-home program for students, providing student enrichment programs and assemblies, funding playground classroom and library supplies and equipment, purchasing supplies for emergency kits, and purchasing office supplies and equipment for faculty and staff. most of these services would not exist without the woodside elementary pfc due to lack of funding from the school district. these services and programs supplement the education experience of the children attending the school.'\n",
      " 'foster inclusive community participation by providing a facility for various social, educational, and recreational services increase opportunities for personal and collective growth in the community promote relationships with a variety of businesses, foundations, and other sponors within the community']\n"
     ]
    }
   ],
   "source": [
    "descAr = np.array(descriptions)\n",
    "for i in range(nt):\n",
    "    print(\"Cluster #\",i+1)\n",
    "    print(descAr[clusQnQ == i][:5])"
   ]
  },
  {
   "cell_type": "code",
   "execution_count": 19,
   "metadata": {},
   "outputs": [
    {
     "name": "stdout",
     "output_type": "stream",
     "text": [
      "Cluster # 1\n",
      "['promotion of youth ice sports for madison nj high school students for 2018-2019 season, and recognition of player accomplishments, benefitting approximately 35 to 40 youth foundation for morristown medical center- hockey fights cancer'\n",
      " 'organization provides youth sports to children of age within its jurisdiction at a low cost'\n",
      " 'clay county fair held july 9-12 2015 provided educational experiences for 4-h & ffa youth & county residents through exhibits & demonstrations'\n",
      " 'aisa trains native american youth and adults in the principles of scouting in order to bring together the various tribes in a positive project'\n",
      " 'provide for the advancement of amateur youth soccer for over 600 players in the town of southborough, ma']\n",
      "Cluster # 2\n",
      "['human services programs, general/other: community based programs to feed 150-200 individuals weekly who are homeless, unemployed, elderly, on fixed income, on welfare, or otherwise disadvantaged.'\n",
      " 'volunteer fire protection services for the town of cheshire connecticut. maintenance of a fire protection bureau, providing educational services, and promotion of fire safety to the residents of the town. providing aparatus and training to the volunteers of the department.'\n",
      " 'support of lions club community service projects within texas, the united states and abroad. sight conservation assistance to local residents in need. support of local charitable organizations providing health and human services to local residents in need.'\n",
      " 'woodside elementary pfc has consistently provided many services to the school year after year such as financing the salary of a computer teacher and classroom teaching assistants, providing a read-at-home program for students, providing student enrichment programs and assemblies, funding playground classroom and library supplies and equipment, purchasing supplies for emergency kits, and purchasing office supplies and equipment for faculty and staff. most of these services would not exist without the woodside elementary pfc due to lack of funding from the school district. these services and programs supplement the education experience of the children attending the school.'\n",
      " 'foster inclusive community participation by providing a facility for various social, educational, and recreational services increase opportunities for personal and collective growth in the community promote relationships with a variety of businesses, foundations, and other sponors within the community']\n",
      "Cluster # 3\n",
      "['help students with vision challenges by providing screening and tutoring resources for schools and parents tutoring visually handicapped students'\n",
      " 'field trips classroom activities school assemblies'\n",
      " 'enrolled over 100 students and offered variety of classes on chinese language and culture.'\n",
      " 'support of local athletic teams scholarships to graduating seniors'\n",
      " 'educational support']\n",
      "Cluster # 4\n",
      "['programs are for the purpose of providing experienced speakers from the business world to educate the members meetings foster an exchange of ideas and experience between the members business plan competition supports and empowers female entrepreneurs showcasing their emerging businesses and allowing them to compete for a chance to advance their businesses'\n",
      " 'the fayetteville police foundation was organized to promote charitable and educational activities for the benefit of the fayetteville, nc police department, its personnel and their defendents.'\n",
      " 'organizational development - put in place operational policies procedures and mechanisms for the operations of the organization project development and fundraising - developed and fundraised for a project that was implemented in early 2019'\n",
      " 'cash grants at december holidays to individuals upon recommendation of various public welfare agencies within the city of berkeley, california. for this fiscal period, the organization distributerd approximamtely 1,100 checks to individuals emergency cash grants paid to individauls upon recomendation of various public welfare agencies within the city of berkeley, california'\n",
      " 'social media/website: the lung transplant foundation works tirelessly to advocate for constructive public policies that support lung transplant patients and their families. we strive to bring the issues of post-transplant rejection to the forefront through networking and activism with government agencies, pharmaceutical and medical technology companies, and the medical community on behalf of the lung transplant population. research grants: our goal is to develop, initiate, and support research efforts on issues surrounding lung transplantation, to find treatments, and ultimately, a solution, for chronic rejection. mentorship: the joseph j. carter mentorship program provides confidential, compassionate, one-on-one support for lung transplant recipients and their caregivers at all stages of lung transplantation through personal contact with a trained mentor.']\n",
      "Cluster # 5\n",
      "['none-no revenue for 2018' 'none' 'none' 'none'\n",
      " 'none soil conservation program']\n"
     ]
    }
   ],
   "source": [
    "descAr = np.array(descriptions)\n",
    "for i in range(nf):\n",
    "    print(\"Cluster #\",i+1)\n",
    "    print(descAr[clusQnQ == i][:5])"
   ]
  },
  {
   "attachments": {},
   "cell_type": "markdown",
   "metadata": {},
   "source": [
    "### 5. Comment on how well the clustering appears to be working"
   ]
  },
  {
   "attachments": {},
   "cell_type": "markdown",
   "metadata": {},
   "source": [
    "I think it worked alright. Cluster #1 looks to be about youth oriented programs and Cluster #2 is like community/education oriented.\n",
    "\n",
    "Five cluster grouping seemed to work pretty well until #4. Cluster #1 looks basically the same, #2 is more community service type non-profits, #3 is related to students or education, #4 seems to be clustering descriptions that have the word pattern \"pol/pro(viding,grams)/pur/pub\", otherwise not sure what it would be. I think cluster #2 kind of split to form the new #2 and #3. #5 groups all the none responses basically. I wonder what would happen to cluster #5 if I cleared out all the \"none\" type entries and if that would effect cluster #4 at all. In other words, would having the ability to focus on smaller degrees of association refine the clusters or is it a sign the algorithm is \"grasping at straws\"?"
   ]
  }
 ],
 "metadata": {
  "kernelspec": {
   "display_name": "Python 3",
   "language": "python",
   "name": "python3"
  },
  "language_info": {
   "codemirror_mode": {
    "name": "ipython",
    "version": 3
   },
   "file_extension": ".py",
   "mimetype": "text/x-python",
   "name": "python",
   "nbconvert_exporter": "python",
   "pygments_lexer": "ipython3",
   "version": "3.11.3"
  },
  "orig_nbformat": 4
 },
 "nbformat": 4,
 "nbformat_minor": 2
}
